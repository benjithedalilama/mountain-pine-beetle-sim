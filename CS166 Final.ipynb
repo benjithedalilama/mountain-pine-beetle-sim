{
 "cells": [
  {
   "cell_type": "code",
   "execution_count": 40,
   "metadata": {
    "collapsed": false
   },
   "outputs": [
    {
     "name": "stderr",
     "output_type": "stream",
     "text": [
      "/Users/ben-imadali/anaconda2/envs/py3k/lib/python3.6/site-packages/matplotlib/__init__.py:1405: UserWarning: \n",
      "This call to matplotlib.use() has no effect because the backend has already\n",
      "been chosen; matplotlib.use() must be called *before* pylab, matplotlib.pyplot,\n",
      "or matplotlib.backends is imported for the first time.\n",
      "\n",
      "  warnings.warn(_use_error_msg)\n"
     ]
    }
   ],
   "source": [
    "import matplotlib\n",
    "import matplotlib.colors as col\n",
    "\n",
    "matplotlib.use('TkAgg')\n",
    "\n",
    "import matplotlib.pyplot as plt\n",
    "import random as RD\n",
    "import scipy as SP\n",
    "\n",
    "cpool = ['#ffffff', '#236d28', '#f44242', '#000000']\n",
    "cmap3 = col.ListedColormap(cpool, 'indexed')\n",
    "\n",
    "import csv\n",
    "\n",
    "RD.seed()\n",
    "\n",
    "# Get temperatures for Cortez, Colorado in 2017\n",
    "avg_temps = []\n",
    "with open('CRND0103-2017-CO_Cortez_8_SE.txt', 'r') as f:\n",
    "    content = f.readlines()\n",
    "    for x in content:\n",
    "        row = x.split()\n",
    "        avg_temps.append(float(row[7]))\n",
    "\n",
    "width = 100\n",
    "height = 100\n",
    "treeProb = 0.6\n",
    "beetleProb = 0.05\n",
    "drought_probability = 0.05\n",
    "transport_probability = 0.0\n",
    "empty, tree, infested, dead = range(4)\n",
    "running_data = {empty:0,tree:0,infested:0,dead:0}"
   ]
  },
  {
   "cell_type": "code",
   "execution_count": 41,
   "metadata": {
    "collapsed": false
   },
   "outputs": [],
   "source": [
    "def init():\n",
    "    global day, config, nextConfig, consecutive_summer_days, drought, cold_snap\n",
    "\n",
    "    day, consecutive_summer_days = 0, 0\n",
    "    drought = False\n",
    "    cold_snap = False\n",
    "\n",
    "    config = SP.zeros([height, width])\n",
    "    for x in range(width):\n",
    "        for y in range(height):\n",
    "            if RD.random() < treeProb:\n",
    "                state = tree\n",
    "            elif RD.random() < beetleProb:\n",
    "                state = infested\n",
    "            else:\n",
    "                state = empty\n",
    "            config[y, x] = state\n",
    "\n",
    "    nextConfig = SP.zeros([height, width])\n",
    "\n",
    "init()"
   ]
  },
  {
   "cell_type": "code",
   "execution_count": 42,
   "metadata": {
    "collapsed": true
   },
   "outputs": [],
   "source": [
    "def step():\n",
    "    global day, config, nextConfig, consecutive_summer_days, drought, cold_snap\n",
    "\n",
    "    day += 1\n",
    "    temp = RD.gauss(avg_temps[day%365],1)\n",
    "\n",
    "    movement_probability = 0\n",
    "    infestation_probability = 0\n",
    "\n",
    "    # keep track of the consecutive summer days\n",
    "    if temp > 20:\n",
    "        consecutive_summer_days += 1\n",
    "    else:\n",
    "        consecutive_summer_days = 0\n",
    "\n",
    "    # set movement and infestation probability based on consecutive summer days\n",
    "    if consecutive_summer_days >= 120:\n",
    "        movement_probability = 0.7\n",
    "        infestation_probability = 1\n",
    "    elif consecutive_summer_days < 120 and consecutive_summer_days >= 75:\n",
    "        movement_probability = 0.4\n",
    "        infestation_probability = 0.5\n",
    "    elif consecutive_summer_days < 75 and consecutive_summer_days >= 30:\n",
    "        movement_probability = 0.2\n",
    "        infestation_probability = 0.2\n",
    "    elif consecutive_summer_days < 30:\n",
    "        movement_probability = 0.05\n",
    "        infestation_probability = 0.05\n",
    "\n",
    "    # start, sustain, or end drought\n",
    "    if drought:\n",
    "        if RD.random() < 0.3: drought = False\n",
    "        infestation_probability *= 1.1\n",
    "        movement_probability *= 1.2\n",
    "    else:\n",
    "        if RD.random() < drought_probability:\n",
    "            drought = True\n",
    "\n",
    "    threshold_temperature = 0\n",
    "    # check for cold snap\n",
    "    threshold_temperature = -40 if day%365 <= 60 and day%365 > 300 else -20\n",
    "\n",
    "    if temp < threshold_temperature:\n",
    "        cold_snap = True\n",
    "    else:\n",
    "        cold_snap = False\n",
    "\n",
    "    for x in range(width):\n",
    "        for y in range(height):\n",
    "            state = config[y, x]\n",
    "            if state == infested:\n",
    "                if cold_snap and RD.random() < 0.9:\n",
    "                    state = dead\n",
    "\n",
    "                if RD.random() < 0.995: state = infested\n",
    "                else:\n",
    "                    state = dead\n",
    "            elif state == tree:\n",
    "                if RD.random() < transport_probability/100:\n",
    "                    state = infested\n",
    "                else:\n",
    "                    for dx in range(-1, 1):\n",
    "                        for dy in range(-1, 1):\n",
    "                            # check if the beetles move. if they do, check if they successfully infest a tree\n",
    "                            if RD.random() < movement_probability:\n",
    "                                if config[(y+dy)%height, (x+dx)%width] == infested and RD.random() < infestation_probability:\n",
    "                                    state = infested\n",
    "                            else: pass\n",
    "\n",
    "            nextConfig[y, x] = state\n",
    "\n",
    "    config, nextConfig = nextConfig, config"
   ]
  },
  {
   "cell_type": "code",
   "execution_count": 43,
   "metadata": {
    "collapsed": true
   },
   "outputs": [],
   "source": [
    "def draw():\n",
    "    plt.cla()\n",
    "    plt.pcolor(config, vmin = 0, vmax = 3, cmap = cmap3)\n",
    "    plt.title('days = {day}, temperature = {temp:.2f}ºC'.format(day=day, temp=avg_temps[day%365]))\n",
    "    plt.axis('scaled')\n",
    "    plt.show()"
   ]
  },
  {
   "cell_type": "code",
   "execution_count": 46,
   "metadata": {
    "collapsed": false
   },
   "outputs": [
    {
     "data": {
      "image/png": "[encoded data removed]",
      "text/plain": [
       "<matplotlib.figure.Figure at 0x10b3e56a0>"
      ]
     },
     "metadata": {},
     "output_type": "display_data"
    }
   ],
   "source": [
    "%matplotlib inline\n",
    "health_values = []\n",
    "\n",
    "\n",
    "for i in range(10):\n",
    "    running_data = {empty:0,tree:0,infested:0,dead:0}\n",
    "    init()\n",
    "\n",
    "    for day in range(365):\n",
    "        step()\n",
    "    for row in config:\n",
    "        for column in row:\n",
    "            running_data[column] += 1\n",
    "    forest_health = running_data[tree]/(running_data[tree]+running_data[infested]+running_data[dead])\n",
    "    health_values.append(forest_health)\n",
    "    draw()\n"
   ]
  },
  {
   "cell_type": "code",
   "execution_count": 48,
   "metadata": {
    "collapsed": false
   },
   "outputs": [
    {
     "name": "stdout",
     "output_type": "stream",
     "text": [
      "[0.9436413837908072, 0.9436413837908072]\n",
      "0.943641383791\n"
     ]
    }
   ],
   "source": [
    "# Calculate confidence intervals\n",
    "\n",
    "import numpy as np\n",
    "vals = sorted(health_values)\n",
    "conf_int = [vals[int(0.025*len(vals))],vals[int(0.975*len(vals))]]\n",
    "print(conf_int)\n",
    "print(np.mean(vals))"
   ]
  },
  {
   "cell_type": "code",
   "execution_count": null,
   "metadata": {
    "collapsed": true
   },
   "outputs": [],
   "source": []
  }
 ],
 "metadata": {
  "anaconda-cloud": {},
  "kernelspec": {
   "display_name": "Python [py3k]",
   "language": "python",
   "name": "Python [py3k]"
  },
  "language_info": {
   "codemirror_mode": {
    "name": "ipython",
    "version": 3
   },
   "file_extension": ".py",
   "mimetype": "text/x-python",
   "name": "python",
   "nbconvert_exporter": "python",
   "pygments_lexer": "ipython3",
   "version": "3.6.2"
  }
 },
 "nbformat": 4,
 "nbformat_minor": 0
}
